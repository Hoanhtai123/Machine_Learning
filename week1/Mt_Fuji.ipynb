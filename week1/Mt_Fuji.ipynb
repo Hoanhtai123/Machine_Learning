{
  "nbformat": 4,
  "nbformat_minor": 0,
  "metadata": {
    "colab": {
      "name": "Untitled2.ipynb",
      "provenance": [],
      "collapsed_sections": [],
      "authorship_tag": "ABX9TyMfwPYMzzmDG62A9fkrBr3s",
      "include_colab_link": true
    },
    "kernelspec": {
      "display_name": "Python 3",
      "name": "python3"
    }
  },
  "cells": [
    {
      "cell_type": "markdown",
      "metadata": {
        "id": "view-in-github",
        "colab_type": "text"
      },
      "source": [
        "<a href=\"https://colab.research.google.com/github/Hoanhtai123/machin_learning/blob/main/Mt_Fuji.ipynb\" target=\"_parent\"><img src=\"https://colab.research.google.com/assets/colab-badge.svg\" alt=\"Open In Colab\"/></a>"
      ]
    },
    {
      "cell_type": "code",
      "metadata": {
        "colab": {
          "base_uri": "https://localhost:8080/"
        },
        "id": "5hTDx8kdjCyz",
        "outputId": "ac6956c1-cd33-4baf-812c-9f2f21d03b00"
      },
      "source": [
        "THICKNESS = 0.00008\n",
        "folded_thickness_2 = THICKNESS\n",
        "range_loop = range(0,43)\n",
        "for x in range_loop: \n",
        "  if folded_thickness_2 > 3776:\n",
        "    break\n",
        "  folded_thickness_2 = folded_thickness_2*2\n",
        "  \n",
        "print(\"Fold {} times\".format(x))\n",
        "\n",
        "fold = 0\n",
        "def count(distance):\n",
        "  THICKNESS = 0.00008\n",
        "  x = 0\n",
        "  folded_thickness_2 = THICKNESS\n",
        "  ##range_loop = range(0,43)\n",
        "  ##for x in range_loop: \n",
        "  while folded_thickness_2 < distance:\n",
        "      folded_thickness_2 = folded_thickness_2*2\n",
        "      x+=1\n",
        "  ##print(\"Fold {} times\".format(x))\n",
        "  return x\n",
        "\n",
        "print(\"Fold {} times\".format(count(44465433221129760)))\n",
        "\n"
      ],
      "execution_count": 25,
      "outputs": [
        {
          "output_type": "stream",
          "text": [
            "Fold 26 times\n",
            "Fold 69 times\n"
          ],
          "name": "stdout"
        }
      ]
    },
    {
      "cell_type": "markdown",
      "metadata": {
        "id": "RqF7NLSMeMzG"
      },
      "source": [
        "As we know in the previous assignment "
      ]
    },
    {
      "cell_type": "code",
      "metadata": {
        "colab": {
          "base_uri": "https://localhost:8080/"
        },
        "id": "tO53KLKbNLnj",
        "outputId": "12e35df4-7e96-464f-d070-8539746a7c32"
      },
      "source": [
        "import math\n",
        "def length_of_paper():\n",
        "  THICKNESS = 0.00008\n",
        "  folded_thickness = THICKNESS*(2)**43\n",
        "  print(\"Thickness to reach the moon: {} meters\".format(folded_thickness))\n",
        "  fold_times = count(folded_thickness)\n",
        "  print(\"Fold {} times\".format(count(folded_thickness)))\n",
        " \n",
        "\n",
        "  L = ((math.pi*0.00008)/6)*((2**fold_times) + 4)*((2**fold_times) -1)\n",
        "  print(\"To reach the moon we need to fold a paper {} meter long {} times\".format(L,fold_times))\n",
        "  #return L\n",
        "\n",
        "length_of_paper()"
      ],
      "execution_count": 45,
      "outputs": [
        {
          "output_type": "stream",
          "text": [
            "Thickness to reach the moon: 703687441.77664 meters\n",
            "Fold 43 times\n",
            "To reach the moon we need to fold a paper 3.240919444170781e+21 meter long 43 times\n"
          ],
          "name": "stdout"
        }
      ]
    }
  ]
}