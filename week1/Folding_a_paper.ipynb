{
  "nbformat": 4,
  "nbformat_minor": 0,
  "metadata": {
    "colab": {
      "name": "Untitled0.ipynb",
      "provenance": [],
      "collapsed_sections": [],
      "authorship_tag": "ABX9TyMcbnMO1mrp0z/64sa0cdAT",
      "include_colab_link": true
    },
    "kernelspec": {
      "name": "python3",
      "display_name": "Python 3"
    }
  },
  "cells": [
    {
      "cell_type": "markdown",
      "metadata": {
        "id": "view-in-github",
        "colab_type": "text"
      },
      "source": [
        "<a href=\"https://colab.research.google.com/github/Hoanhtai123/machin_learning/blob/main/Folding_a_paper.ipynb\" target=\"_parent\"><img src=\"https://colab.research.google.com/assets/colab-badge.svg\" alt=\"Open In Colab\"/></a>"
      ]
    },
    {
      "cell_type": "code",
      "metadata": {
        "colab": {
          "base_uri": "https://localhost:8080/"
        },
        "id": "-oV8DDQ0yaKL",
        "outputId": "ac85ccbd-80fc-42ef-8684-aacfab978435"
      },
      "source": [
        "\"\"\"\r\n",
        "Code to calculate the thickness when the paper is folded once\r\n",
        "\"\"\"\r\n",
        "THICKNESS = 0.00008\r\n",
        "folded_thickness = THICKNESS*(2)**43\r\n",
        "print(\"Thickness: {} meters\".format(folded_thickness))"
      ],
      "execution_count": null,
      "outputs": [
        {
          "output_type": "stream",
          "text": [
            "Thickness: 703687441.77664 meters\n"
          ],
          "name": "stdout"
        }
      ]
    },
    {
      "cell_type": "markdown",
      "metadata": {
        "id": "vMyhzFiFzJva"
      },
      "source": [
        ""
      ]
    },
    {
      "cell_type": "code",
      "metadata": {
        "colab": {
          "base_uri": "https://localhost:8080/"
        },
        "id": "FOOAps3VzKTE",
        "outputId": "1552b21a-eced-4068-add0-214d3aac2b78"
      },
      "source": [
        "# Convert meters to kilometers and display with two decimal places\r\n",
        "folded_thickness = folded_thickness/1000\r\n",
        "print(\"Thickness: {: .2f} kilometers\".format(folded_thickness/1000))"
      ],
      "execution_count": null,
      "outputs": [
        {
          "output_type": "stream",
          "text": [
            "Thickness:  703.69 kilometers\n"
          ],
          "name": "stdout"
        }
      ]
    },
    {
      "cell_type": "code",
      "metadata": {
        "colab": {
          "base_uri": "https://localhost:8080/"
        },
        "id": "dc-tVjom2QsD",
        "outputId": "0696c489-5f5e-42f4-aaba-36b01a8d1327"
      },
      "source": [
        "THICKNESS = 0.00008\r\n",
        "folded_thickness_2 = THICKNESS\r\n",
        "range_loop = range(0,43)\r\n",
        "for x in range_loop: \r\n",
        "  folded_thickness_2 = folded_thickness_2*2\r\n",
        "print(\"Thickness: {} meters\".format(folded_thickness_2))"
      ],
      "execution_count": null,
      "outputs": [
        {
          "output_type": "stream",
          "text": [
            "Thickness: 703687441.77664 meters\n"
          ],
          "name": "stdout"
        }
      ]
    },
    {
      "cell_type": "code",
      "metadata": {
        "id": "qy1XZmuLM8SA"
      },
      "source": [
        "%%timeit\r\n",
        "import time\r\n",
        "start1 = time.time()\r\n",
        "#####\r\n",
        "# Paste the code you want to compare here\r\n",
        "THICKNESS = 0.00008\r\n",
        "folded_thickness_2 = THICKNESS\r\n",
        "range_loop = range(0,43)\r\n",
        "for x in range_loop: \r\n",
        "  folded_thickness_2 = folded_thickness_2*2\r\n",
        " ## print(\"Thickness: {} meters\".format(folded_thickness_2))\r\n",
        "#####\r\n",
        "elapsed_time1 = time.time() - start1\r\n",
        "print(\"time : {}[s]\".format(elapsed_time1))\r\n",
        "#####\r\n",
        "import time\r\n",
        "start2 = time.time()\r\n",
        "#####\r\n",
        "# Paste the code you want to compare here\r\n",
        "THICKNESS = 0.00008\r\n",
        "folded_thickness = THICKNESS*(2)**43\r\n",
        "##print(\"Thickness: {} meters\".format(folded_thickness))\r\n",
        "#####\r\n",
        "elapsed_time2 = time.time() - start2\r\n",
        "print(\"time : {}[s]\".format(elapsed_time2))"
      ],
      "execution_count": null,
      "outputs": []
    },
    {
      "cell_type": "code",
      "metadata": {
        "colab": {
          "base_uri": "https://localhost:8080/"
        },
        "id": "74Wnw95LSZh9",
        "outputId": "156f05f7-cb24-4086-b8d7-4268594c67f1"
      },
      "source": [
        "my_list = []\r\n",
        "THICKNESS = 0.00008\r\n",
        "folded_thickness_2 = THICKNESS\r\n",
        "range_loop = range(0,43)\r\n",
        "my_list.append(folded_thickness_2)\r\n",
        "for x in range_loop: \r\n",
        "  folded_thickness_2 = folded_thickness_2*2\r\n",
        "  my_list.append(folded_thickness_2)\r\n",
        "print(len(my_list))"
      ],
      "execution_count": null,
      "outputs": [
        {
          "output_type": "stream",
          "text": [
            "44\n"
          ],
          "name": "stdout"
        }
      ]
    },
    {
      "cell_type": "code",
      "metadata": {
        "colab": {
          "base_uri": "https://localhost:8080/",
          "height": 295
        },
        "id": "7Q9dcMtIV3oX",
        "outputId": "a3c82676-9026-4be3-cd4e-230929b7cd76"
      },
      "source": [
        "\"\"\"\r\n",
        "Display the graph. Title and axis label name.\r\n",
        "\"\"\"\r\n",
        "import matplotlib.pyplot as plt\r\n",
        "%matplotlib inline\r\n",
        "plt.title(\"thickness of folded paper\")\r\n",
        "plt.xlabel(\"number of folds\")\r\n",
        "plt.ylabel(\"thickness[m]\")\r\n",
        "plt.plot(my_list) # Enter the variable name of the list in \"List name\"\r\n",
        "plt.show()"
      ],
      "execution_count": null,
      "outputs": [
        {
          "output_type": "display_data",
          "data": {
            "image/png": "[encoded data removed]",
            "text/plain": [
              "<Figure size 432x288 with 1 Axes>"
            ]
          },
          "metadata": {
            "tags": [],
            "needs_background": "light"
          }
        }
      ]
    },
    {
      "cell_type": "code",
      "metadata": {
        "colab": {
          "base_uri": "https://localhost:8080/",
          "height": 304
        },
        "id": "YcZ9gDp4WpRJ",
        "outputId": "ce7c7041-84e7-4647-9262-bdc407d860aa"
      },
      "source": [
        "\"\"\"\r\n",
        "Display the graph. Title and axis label name.\r\n",
        "\"\"\"\r\n",
        "import matplotlib.pyplot as plt\r\n",
        "%matplotlib inline\r\n",
        "plt.title(\"thickness of folded paper\")\r\n",
        "plt.xlabel(\"number of folds\")\r\n",
        "plt.ylabel(\"thickness[m]\")\r\n",
        "plt.tick_params(labelsize=20)\r\n",
        "plt.plot(my_list, color='blue', marker='o', linestyle='dashed', linewidth=1, markersize=4, markerfacecolor='red')\r\n",
        "plt.show()"
      ],
      "execution_count": null,
      "outputs": [
        {
          "output_type": "display_data",
          "data": {
            "image/png": "[encoded data removed]",
            "text/plain": [
              "<Figure size 432x288 with 1 Axes>"
            ]
          },
          "metadata": {
            "tags": [],
            "needs_background": "light"
          }
        }
      ]
    }
  ]
}